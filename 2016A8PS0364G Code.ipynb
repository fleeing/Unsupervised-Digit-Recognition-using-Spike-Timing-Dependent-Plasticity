{
 "cells": [
  {
   "cell_type": "code",
   "execution_count": 1,
   "metadata": {},
   "outputs": [
    {
     "name": "stderr",
     "output_type": "stream",
     "text": [
      "Using TensorFlow backend.\n"
     ]
    }
   ],
   "source": [
    "#Importing all necessary libraries\n",
    "from brian2 import *\n",
    "\n",
    "import keras\n",
    "import cv2\n",
    "import numpy as np\n",
    "import matplotlib.pyplot as plt\n",
    "import pandas as pd\n",
    "import os\n",
    "from keras.datasets import mnist\n",
    "import brian2tools\n",
    "from PIL import Image\n",
    "from brian2tools import *\n",
    "\n",
    "%matplotlib inline\n"
   ]
  },
  {
   "cell_type": "markdown",
   "metadata": {},
   "source": [
    "# Extracting Spike frequencies from images"
   ]
  },
  {
   "cell_type": "code",
   "execution_count": 3,
   "metadata": {},
   "outputs": [],
   "source": [
    "def Make_pix_to_spike_dictionary():\n",
    "    #array containing all pixel intensities from 0 to 255\n",
    "    pix=range(0,256,1)\n",
    "    #spike_freq list to store corresponding frequency of the spike train for that pixel intensity value\n",
    "    spike_freq=[]\n",
    "    #Initialize frequency=5.1 for Pixel intensity of value 0\n",
    "    init_spike_freq=5.1\n",
    "    count=0\n",
    "    for i in pix:\n",
    "        if(count==5):\n",
    "            #Count is used for increasing value of freq after every group of 5 pixel intensities\n",
    "            count=0\n",
    "            init_spike_freq+=round(0.1,1)\n",
    "\n",
    "        count+=1\n",
    "        spike_freq.append(round(init_spike_freq,1))\n",
    "\n",
    "    #Linear plot of\n",
    "    #fig = plt.figure()\n",
    "    #ax = fig.add_axes([1,1,1,1])\n",
    "    keys = pix\n",
    "    values = spike_freq\n",
    "    pix_to_spk_dict = dict(zip(keys, values))\n",
    "    #plt.plot(pix,spike_freq)\n",
    "\n",
    "    #print(pix_to_spk_dict)\n",
    "    return pix_to_spk_dict\n",
    "\n",
    "    #plt.savefig('Spike frequencies Vs Pixel intensity values.png', bbox_inches='tight')\n"
   ]
  },
  {
   "cell_type": "code",
   "execution_count": 4,
   "metadata": {},
   "outputs": [
    {
     "name": "stdout",
     "output_type": "stream",
     "text": [
      "{0: 5.1, 1: 5.1, 2: 5.1, 3: 5.1, 4: 5.1, 5: 5.2, 6: 5.2, 7: 5.2, 8: 5.2, 9: 5.2, 10: 5.3, 11: 5.3, 12: 5.3, 13: 5.3, 14: 5.3, 15: 5.4, 16: 5.4, 17: 5.4, 18: 5.4, 19: 5.4, 20: 5.5, 21: 5.5, 22: 5.5, 23: 5.5, 24: 5.5, 25: 5.6, 26: 5.6, 27: 5.6, 28: 5.6, 29: 5.6, 30: 5.7, 31: 5.7, 32: 5.7, 33: 5.7, 34: 5.7, 35: 5.8, 36: 5.8, 37: 5.8, 38: 5.8, 39: 5.8, 40: 5.9, 41: 5.9, 42: 5.9, 43: 5.9, 44: 5.9, 45: 6.0, 46: 6.0, 47: 6.0, 48: 6.0, 49: 6.0, 50: 6.1, 51: 6.1, 52: 6.1, 53: 6.1, 54: 6.1, 55: 6.2, 56: 6.2, 57: 6.2, 58: 6.2, 59: 6.2, 60: 6.3, 61: 6.3, 62: 6.3, 63: 6.3, 64: 6.3, 65: 6.4, 66: 6.4, 67: 6.4, 68: 6.4, 69: 6.4, 70: 6.5, 71: 6.5, 72: 6.5, 73: 6.5, 74: 6.5, 75: 6.6, 76: 6.6, 77: 6.6, 78: 6.6, 79: 6.6, 80: 6.7, 81: 6.7, 82: 6.7, 83: 6.7, 84: 6.7, 85: 6.8, 86: 6.8, 87: 6.8, 88: 6.8, 89: 6.8, 90: 6.9, 91: 6.9, 92: 6.9, 93: 6.9, 94: 6.9, 95: 7.0, 96: 7.0, 97: 7.0, 98: 7.0, 99: 7.0, 100: 7.1, 101: 7.1, 102: 7.1, 103: 7.1, 104: 7.1, 105: 7.2, 106: 7.2, 107: 7.2, 108: 7.2, 109: 7.2, 110: 7.3, 111: 7.3, 112: 7.3, 113: 7.3, 114: 7.3, 115: 7.4, 116: 7.4, 117: 7.4, 118: 7.4, 119: 7.4, 120: 7.5, 121: 7.5, 122: 7.5, 123: 7.5, 124: 7.5, 125: 7.6, 126: 7.6, 127: 7.6, 128: 7.6, 129: 7.6, 130: 7.7, 131: 7.7, 132: 7.7, 133: 7.7, 134: 7.7, 135: 7.8, 136: 7.8, 137: 7.8, 138: 7.8, 139: 7.8, 140: 7.9, 141: 7.9, 142: 7.9, 143: 7.9, 144: 7.9, 145: 8.0, 146: 8.0, 147: 8.0, 148: 8.0, 149: 8.0, 150: 8.1, 151: 8.1, 152: 8.1, 153: 8.1, 154: 8.1, 155: 8.2, 156: 8.2, 157: 8.2, 158: 8.2, 159: 8.2, 160: 8.3, 161: 8.3, 162: 8.3, 163: 8.3, 164: 8.3, 165: 8.4, 166: 8.4, 167: 8.4, 168: 8.4, 169: 8.4, 170: 8.5, 171: 8.5, 172: 8.5, 173: 8.5, 174: 8.5, 175: 8.6, 176: 8.6, 177: 8.6, 178: 8.6, 179: 8.6, 180: 8.7, 181: 8.7, 182: 8.7, 183: 8.7, 184: 8.7, 185: 8.8, 186: 8.8, 187: 8.8, 188: 8.8, 189: 8.8, 190: 8.9, 191: 8.9, 192: 8.9, 193: 8.9, 194: 8.9, 195: 9.0, 196: 9.0, 197: 9.0, 198: 9.0, 199: 9.0, 200: 9.1, 201: 9.1, 202: 9.1, 203: 9.1, 204: 9.1, 205: 9.2, 206: 9.2, 207: 9.2, 208: 9.2, 209: 9.2, 210: 9.3, 211: 9.3, 212: 9.3, 213: 9.3, 214: 9.3, 215: 9.4, 216: 9.4, 217: 9.4, 218: 9.4, 219: 9.4, 220: 9.5, 221: 9.5, 222: 9.5, 223: 9.5, 224: 9.5, 225: 9.6, 226: 9.6, 227: 9.6, 228: 9.6, 229: 9.6, 230: 9.7, 231: 9.7, 232: 9.7, 233: 9.7, 234: 9.7, 235: 9.8, 236: 9.8, 237: 9.8, 238: 9.8, 239: 9.8, 240: 9.9, 241: 9.9, 242: 9.9, 243: 9.9, 244: 9.9, 245: 10.0, 246: 10.0, 247: 10.0, 248: 10.0, 249: 10.0, 250: 10.1, 251: 10.1, 252: 10.1, 253: 10.1, 254: 10.1, 255: 10.2}\n"
     ]
    }
   ],
   "source": [
    "pix_to_spk_dict=Make_pix_to_spike_dictionary()\n",
    "print(pix_to_spk_dict)"
   ]
  },
  {
   "cell_type": "code",
   "execution_count": 5,
   "metadata": {},
   "outputs": [],
   "source": [
    "def load_mnist_dataset():\n",
    "    (train_x, train_y) , (test_x, test_y) = mnist.load_data()\n",
    "    return (train_x,train_y),((test_x, test_y))"
   ]
  },
  {
   "cell_type": "code",
   "execution_count": 6,
   "metadata": {},
   "outputs": [
    {
     "data": {
      "text/plain": [
       "(60000, 28, 28)"
      ]
     },
     "execution_count": 6,
     "metadata": {},
     "output_type": "execute_result"
    }
   ],
   "source": [
    "(train_x,train_y),((test_x, test_y))=load_mnist_dataset()\n",
    "train_x.shape"
   ]
  },
  {
   "cell_type": "code",
   "execution_count": 7,
   "metadata": {},
   "outputs": [],
   "source": [
    "def get_image_pixels(index):\n",
    "    load_mnist_dataset()\n",
    "    img=test_x[index]\n",
    "    test_img = img.reshape(1,784)\n",
    "    return test_img,img"
   ]
  },
  {
   "cell_type": "code",
   "execution_count": 8,
   "metadata": {},
   "outputs": [
    {
     "name": "stdout",
     "output_type": "stream",
     "text": [
      "(28, 28)\n"
     ]
    },
    {
     "data": {
      "image/png": "[encoded data removed]",
      "text/plain": [
       "<Figure size 432x288 with 1 Axes>"
      ]
     },
     "metadata": {
      "needs_background": "light"
     },
     "output_type": "display_data"
    },
    {
     "name": "stdout",
     "output_type": "stream",
     "text": [
      "(1, 784)\n"
     ]
    }
   ],
   "source": [
    "test_img,img=get_image_pixels(120)\n",
    "print(img.shape)\n",
    "mat = np.reshape(img,(28,28))\n",
    "\n",
    "# Creates PIL image\n",
    "img = Image.fromarray( mat , 'L')\n",
    "plt.imshow(img)\n",
    "plt.title('my picture')\n",
    "plt.show()\n",
    "print(test_img.shape)"
   ]
  },
  {
   "cell_type": "code",
   "execution_count": 9,
   "metadata": {},
   "outputs": [
    {
     "name": "stdout",
     "output_type": "stream",
     "text": [
      "[[  0   0   0   0   0   0   0   0   0   0   0   0   0   0   0   0   0   0\n",
      "    0   0   0   0   0   0   0   0   0   0   0   0   0   0   0   0   0   0\n",
      "    0   0   0   0   0   0   0   0   0   0   0   0   0   0   0   0   0   0\n",
      "    0   0   0   0   0   0   0   0   0   0   0   0   0   0   0   0   0   0\n",
      "    0   0   0   0   0   0   0   0   0   0   0   0   0   0   0   0   0   0\n",
      "    0   0   0   0   0   0   0   0   0   0   0   0   0   0   0   0   0   0\n",
      "    0   0   0   0   0   0   0   0   0   0   0   0   0   0   0   0   0   0\n",
      "    0   0   0   0   0   0   0   0   0   0   0   0   0   0   0   0   0   0\n",
      "    0   0   0   0   0   0   0   0  64  64 255 183 253 140 121 121  38   0\n",
      "    0   0   0   0   0   0   0   0   0   0   0   0   0  91 212 240 240 240\n",
      "  246 246 253 252 252 252 252 252  79   0   0   0   0   0   0   0   0   0\n",
      "    0   0   0   0 133 248 252 202 252 252 252 252 253 252 252 252 252 252\n",
      "  198   0   0   0   0   0   0   0   0   0   0   0   0   0 226 252 252 161\n",
      "  239 172 172 102 110  39  39  39 165 252 246  78   0   0   0   0   0   0\n",
      "    0   0   0   0   0   0 226 252 252 104  44   0   0   0   0   0   0   0\n",
      "   14  53  53  20   0   0   0   0   0   0   0   0   0   0   0   0 128 252\n",
      "  252  66   0   0   0   0   0   0   0   0   0   0   0   0   0   0   0   0\n",
      "    0   0   0   0   0   0   0   0  94 252 252  96  41  41  19  19   0   0\n",
      "    0   0   0   0   0   0   0   0   0   0   0   0   0   0   0   0   0   0\n",
      "   35 213 252 252 252 252 203 203 161 104  17   0   0   0   0   0   0   0\n",
      "    0   0   0   0   0   0   0   0   0   0   0  81 252 252 252 252 252 252\n",
      "  253 252 213 105  10   0   0   0   0   0   0   0   0   0   0   0   0   0\n",
      "    0   0   0  81 252 252 252 252 252 252 253 252 252 252 185   0   0   0\n",
      "    0   0   0   0   0   0   0   0   0   0   0   0   0   0  36 158 234 146\n",
      "  183 197 191 253 253 253 253 129   0   0   0   0   0   0   0   0   0   0\n",
      "    0   0   0   0   0   0   0   3  11   2   6   7   6 139 241 252 252 249\n",
      "   76   0   0   0   0   0   0   0   0   0   0   0   0   0   0   0   0   0\n",
      "    0   0   0   0   0   0  23 217 252 252 128   0   0   0   0   0   0   0\n",
      "    0   0   0   0   0   0   0   0   0   0   0   0   0   0   0   0   0 213\n",
      "  252 252 246  78   0   0   0   0   0   0   0   0   0   0   0   0   0   0\n",
      "    0   0   0   0   0   0   0   0 110 244 252 252 220  20   0   0   0   0\n",
      "    0   0   0   0   0   0   0   0   0   0  15  14   0   0  32  54 187 186\n",
      "  245 252 252 252 212   0   0   0   0   0   0   0   0   0   0   0   0   0\n",
      "    0   0 158 193 173 173 219 252 253 252 252 252 252 243 108   0   0   0\n",
      "    0   0   0   0   0   0   0   0   0   0   0   0 109 245 252 252 252 252\n",
      "  253 252 252 252 245 108   0   0   0   0   0   0   0   0   0   0   0   0\n",
      "    0   0   0   0   0 177 241 252 252 252 253 246 238 238 106   0   0   0\n",
      "    0   0   0   0   0   0   0   0   0   0   0   0   0   0   0   0  19 132\n",
      "  252 252 120  69   0   0   0   0   0   0   0   0   0   0   0   0   0   0\n",
      "    0   0   0   0   0   0   0   0   0   0   0   0   0   0   0   0   0   0\n",
      "    0   0   0   0   0   0   0   0   0   0   0   0   0   0   0   0   0   0\n",
      "    0   0   0   0   0   0   0   0   0   0   0   0   0   0   0   0   0   0\n",
      "    0   0   0   0   0   0   0   0   0   0   0   0   0   0   0   0   0   0\n",
      "    0   0   0   0   0   0   0   0   0   0]]\n"
     ]
    }
   ],
   "source": [
    "arr,img=get_image_pixels(120)\n",
    "print(arr)"
   ]
  },
  {
   "cell_type": "code",
   "execution_count": 10,
   "metadata": {},
   "outputs": [
    {
     "data": {
      "text/plain": [
       "(1, 784)"
      ]
     },
     "execution_count": 10,
     "metadata": {},
     "output_type": "execute_result"
    }
   ],
   "source": [
    "arr.shape"
   ]
  },
  {
   "cell_type": "code",
   "execution_count": 11,
   "metadata": {},
   "outputs": [],
   "source": [
    "def get_spike_freqs_from_image(index):\n",
    "    arr,img=get_image_pixels(index)\n",
    "    spike_freqs=[]\n",
    "    pix_to_spk_dict=Make_pix_to_spike_dictionary()\n",
    "    #print(pix_to_spk_dict)\n",
    "    #print(type(pix_to_spk_dict))\n",
    "    for i in arr[0]:\n",
    "        if(pix_to_spk_dict.get(i)):\n",
    "            spike_freqs.append(pix_to_spk_dict.get(i))\n",
    "    return spike_freqs"
   ]
  },
  {
   "cell_type": "code",
   "execution_count": 12,
   "metadata": {},
   "outputs": [
    {
     "name": "stdout",
     "output_type": "stream",
     "text": [
      "[5.1, 5.1, 5.1, 5.1, 5.1, 5.1, 5.1, 5.1, 5.1, 5.1, 5.1, 5.1, 5.1, 5.1, 5.1, 5.1, 5.1, 5.1, 5.1, 5.1, 5.1, 5.1, 5.1, 5.1, 5.1, 5.1, 5.1, 5.1, 5.1, 5.1, 5.1, 5.1, 5.1, 5.1, 5.1, 5.1, 5.1, 5.1, 5.1, 5.1, 5.1, 5.1, 5.1, 5.1, 5.1, 5.1, 5.1, 5.1, 5.1, 5.1, 5.1, 5.1, 5.1, 5.1, 5.1, 5.1, 5.1, 5.1, 5.1, 5.1, 5.1, 5.1, 5.1, 5.1, 5.1, 5.1, 5.1, 5.1, 5.1, 5.1, 5.1, 5.1, 5.1, 5.1, 5.1, 5.1, 5.1, 5.1, 5.1, 5.1, 5.1, 5.1, 5.1, 5.1, 5.1, 5.1, 5.1, 5.1, 5.1, 5.1, 5.1, 5.1, 5.1, 5.1, 5.1, 5.1, 5.1, 5.1, 5.1, 5.1, 5.1, 5.1, 5.1, 5.1, 5.1, 5.1, 5.1, 5.1, 5.1, 5.1, 5.1, 5.1, 5.1, 5.1, 5.1, 5.1, 5.1, 5.1, 5.1, 5.1, 5.1, 5.1, 5.1, 5.1, 5.1, 5.1, 5.1, 5.1, 5.1, 5.1, 5.1, 5.1, 5.1, 5.1, 5.1, 5.1, 5.1, 5.1, 5.1, 5.1, 5.1, 5.1, 5.1, 5.1, 5.1, 5.1, 5.1, 5.1, 5.1, 5.1, 5.1, 5.1, 6.3, 6.3, 10.2, 8.7, 10.1, 7.9, 7.5, 7.5, 5.8, 5.1, 5.1, 5.1, 5.1, 5.1, 5.1, 5.1, 5.1, 5.1, 5.1, 5.1, 5.1, 5.1, 5.1, 6.9, 9.3, 9.9, 9.9, 9.9, 10.0, 10.0, 10.1, 10.1, 10.1, 10.1, 10.1, 10.1, 6.6, 5.1, 5.1, 5.1, 5.1, 5.1, 5.1, 5.1, 5.1, 5.1, 5.1, 5.1, 5.1, 5.1, 7.7, 10.0, 10.1, 9.1, 10.1, 10.1, 10.1, 10.1, 10.1, 10.1, 10.1, 10.1, 10.1, 10.1, 9.0, 5.1, 5.1, 5.1, 5.1, 5.1, 5.1, 5.1, 5.1, 5.1, 5.1, 5.1, 5.1, 5.1, 9.6, 10.1, 10.1, 8.3, 9.8, 8.5, 8.5, 7.1, 7.3, 5.8, 5.8, 5.8, 8.4, 10.1, 10.0, 6.6, 5.1, 5.1, 5.1, 5.1, 5.1, 5.1, 5.1, 5.1, 5.1, 5.1, 5.1, 5.1, 9.6, 10.1, 10.1, 7.1, 5.9, 5.1, 5.1, 5.1, 5.1, 5.1, 5.1, 5.1, 5.3, 6.1, 6.1, 5.5, 5.1, 5.1, 5.1, 5.1, 5.1, 5.1, 5.1, 5.1, 5.1, 5.1, 5.1, 5.1, 7.6, 10.1, 10.1, 6.4, 5.1, 5.1, 5.1, 5.1, 5.1, 5.1, 5.1, 5.1, 5.1, 5.1, 5.1, 5.1, 5.1, 5.1, 5.1, 5.1, 5.1, 5.1, 5.1, 5.1, 5.1, 5.1, 5.1, 5.1, 6.9, 10.1, 10.1, 7.0, 5.9, 5.9, 5.4, 5.4, 5.1, 5.1, 5.1, 5.1, 5.1, 5.1, 5.1, 5.1, 5.1, 5.1, 5.1, 5.1, 5.1, 5.1, 5.1, 5.1, 5.1, 5.1, 5.1, 5.1, 5.8, 9.3, 10.1, 10.1, 10.1, 10.1, 9.1, 9.1, 8.3, 7.1, 5.4, 5.1, 5.1, 5.1, 5.1, 5.1, 5.1, 5.1, 5.1, 5.1, 5.1, 5.1, 5.1, 5.1, 5.1, 5.1, 5.1, 5.1, 5.1, 6.7, 10.1, 10.1, 10.1, 10.1, 10.1, 10.1, 10.1, 10.1, 9.3, 7.2, 5.3, 5.1, 5.1, 5.1, 5.1, 5.1, 5.1, 5.1, 5.1, 5.1, 5.1, 5.1, 5.1, 5.1, 5.1, 5.1, 5.1, 6.7, 10.1, 10.1, 10.1, 10.1, 10.1, 10.1, 10.1, 10.1, 10.1, 10.1, 8.8, 5.1, 5.1, 5.1, 5.1, 5.1, 5.1, 5.1, 5.1, 5.1, 5.1, 5.1, 5.1, 5.1, 5.1, 5.1, 5.1, 5.1, 5.8, 8.2, 9.7, 8.0, 8.7, 9.0, 8.9, 10.1, 10.1, 10.1, 10.1, 7.6, 5.1, 5.1, 5.1, 5.1, 5.1, 5.1, 5.1, 5.1, 5.1, 5.1, 5.1, 5.1, 5.1, 5.1, 5.1, 5.1, 5.1, 5.1, 5.3, 5.1, 5.2, 5.2, 5.2, 7.8, 9.9, 10.1, 10.1, 10.0, 6.6, 5.1, 5.1, 5.1, 5.1, 5.1, 5.1, 5.1, 5.1, 5.1, 5.1, 5.1, 5.1, 5.1, 5.1, 5.1, 5.1, 5.1, 5.1, 5.1, 5.1, 5.1, 5.1, 5.1, 5.5, 9.4, 10.1, 10.1, 7.6, 5.1, 5.1, 5.1, 5.1, 5.1, 5.1, 5.1, 5.1, 5.1, 5.1, 5.1, 5.1, 5.1, 5.1, 5.1, 5.1, 5.1, 5.1, 5.1, 5.1, 5.1, 5.1, 5.1, 5.1, 9.3, 10.1, 10.1, 10.0, 6.6, 5.1, 5.1, 5.1, 5.1, 5.1, 5.1, 5.1, 5.1, 5.1, 5.1, 5.1, 5.1, 5.1, 5.1, 5.1, 5.1, 5.1, 5.1, 5.1, 5.1, 5.1, 5.1, 7.3, 9.9, 10.1, 10.1, 9.5, 5.5, 5.1, 5.1, 5.1, 5.1, 5.1, 5.1, 5.1, 5.1, 5.1, 5.1, 5.1, 5.1, 5.1, 5.1, 5.4, 5.3, 5.1, 5.1, 5.7, 6.1, 8.8, 8.8, 10.0, 10.1, 10.1, 10.1, 9.3, 5.1, 5.1, 5.1, 5.1, 5.1, 5.1, 5.1, 5.1, 5.1, 5.1, 5.1, 5.1, 5.1, 5.1, 5.1, 8.2, 8.9, 8.5, 8.5, 9.4, 10.1, 10.1, 10.1, 10.1, 10.1, 10.1, 9.9, 7.2, 5.1, 5.1, 5.1, 5.1, 5.1, 5.1, 5.1, 5.1, 5.1, 5.1, 5.1, 5.1, 5.1, 5.1, 5.1, 7.2, 10.0, 10.1, 10.1, 10.1, 10.1, 10.1, 10.1, 10.1, 10.1, 10.0, 7.2, 5.1, 5.1, 5.1, 5.1, 5.1, 5.1, 5.1, 5.1, 5.1, 5.1, 5.1, 5.1, 5.1, 5.1, 5.1, 5.1, 5.1, 8.6, 9.9, 10.1, 10.1, 10.1, 10.1, 10.0, 9.8, 9.8, 7.2, 5.1, 5.1, 5.1, 5.1, 5.1, 5.1, 5.1, 5.1, 5.1, 5.1, 5.1, 5.1, 5.1, 5.1, 5.1, 5.1, 5.1, 5.1, 5.1, 5.4, 7.7, 10.1, 10.1, 7.5, 6.4, 5.1, 5.1, 5.1, 5.1, 5.1, 5.1, 5.1, 5.1, 5.1, 5.1, 5.1, 5.1, 5.1, 5.1, 5.1, 5.1, 5.1, 5.1, 5.1, 5.1, 5.1, 5.1, 5.1, 5.1, 5.1, 5.1, 5.1, 5.1, 5.1, 5.1, 5.1, 5.1, 5.1, 5.1, 5.1, 5.1, 5.1, 5.1, 5.1, 5.1, 5.1, 5.1, 5.1, 5.1, 5.1, 5.1, 5.1, 5.1, 5.1, 5.1, 5.1, 5.1, 5.1, 5.1, 5.1, 5.1, 5.1, 5.1, 5.1, 5.1, 5.1, 5.1, 5.1, 5.1, 5.1, 5.1, 5.1, 5.1, 5.1, 5.1, 5.1, 5.1, 5.1, 5.1, 5.1, 5.1, 5.1, 5.1, 5.1, 5.1, 5.1, 5.1, 5.1, 5.1, 5.1, 5.1, 5.1, 5.1, 5.1, 5.1, 5.1, 5.1, 5.1, 5.1, 5.1, 5.1]\n"
     ]
    }
   ],
   "source": [
    "spike_freqs_img_120=get_spike_freqs_from_image(120)\n",
    "print(spike_freqs_img_120)"
   ]
  },
  {
   "cell_type": "markdown",
   "metadata": {},
   "source": [
    "# LIF neuron simulation"
   ]
  },
  {
   "cell_type": "code",
   "execution_count": 13,
   "metadata": {},
   "outputs": [],
   "source": [
    "import numpy as np\n",
    "import pandas as pd\n",
    "import brian2 as b2"
   ]
  },
  {
   "cell_type": "code",
   "execution_count": 14,
   "metadata": {},
   "outputs": [],
   "source": [
    "import os\n",
    "import re\n",
    "\n",
    "from brian2 import *"
   ]
  },
  {
   "cell_type": "code",
   "execution_count": 15,
   "metadata": {},
   "outputs": [],
   "source": [
    "tau = 2 * msecond        # membrane time constant\n",
    "Vt = -52 * mvolt          # spike threshold\n",
    "Vr = -65 * mvolt          # reset value\n",
    "El = -65 * mvolt          # resting potential (same as the reset)"
   ]
  },
  {
   "cell_type": "code",
   "execution_count": 16,
   "metadata": {},
   "outputs": [],
   "source": [
    "eqs = '''dv/dt = -(v-El)/tau : volt'''\n",
    "group = NeuronGroup(28*28, eqs,\n",
    "                    threshold='v > -50*mV',\n",
    "                    reset='v = -70*mV')\n",
    "M = StateMonitor(group, 'v', record=True)"
   ]
  },
  {
   "cell_type": "code",
   "execution_count": 17,
   "metadata": {},
   "outputs": [
    {
     "name": "stderr",
     "output_type": "stream",
     "text": [
      "WARNING    c:\\users\\kaustubh\\appdata\\local\\programs\\python\\python36\\lib\\site-packages\\Cython\\Compiler\\Main.py:367: FutureWarning: Cython directive 'language_level' not set, using 2 for now (Py2). This will change in a later release! File: C:\\Users\\KAUSTUBH\\.cython\\brian_extensions\\_cython_magic_dc19346be5788914bf37627ccba857e6.pyx\n",
      "  tree = Parsing.p_module(s, pxd, full_module_name)\n",
      " [py.warnings]\n",
      "WARNING:py.warnings:c:\\users\\kaustubh\\appdata\\local\\programs\\python\\python36\\lib\\site-packages\\Cython\\Compiler\\Main.py:367: FutureWarning: Cython directive 'language_level' not set, using 2 for now (Py2). This will change in a later release! File: C:\\Users\\KAUSTUBH\\.cython\\brian_extensions\\_cython_magic_dc19346be5788914bf37627ccba857e6.pyx\n",
      "  tree = Parsing.p_module(s, pxd, full_module_name)\n",
      "\n",
      "WARNING    Cannot use Cython, a test compilation failed: Microsoft Visual C++ 14.0 is required. Get it with \"Microsoft Visual C++ Build Tools\": http://landinghub.visualstudio.com/visual-cpp-build-tools (DistutilsPlatformError) [brian2.codegen.runtime.cython_rt.cython_rt.failed_compile_test]\n",
      "INFO       Cannot use compiled code, falling back to the numpy code generation target. Note that this will likely be slower than using compiled code. Set the code generation to numpy manually to avoid this message:\n",
      "prefs.codegen.target = \"numpy\" [brian2.devices.device.codegen_fallback]\n",
      "INFO       No numerical integration method specified for group 'neurongroup', using method 'exact' (took 1.97s). [brian2.stateupdaters.base.method_choice]\n"
     ]
    }
   ],
   "source": [
    "# #By default the time step is 0.1ms\n",
    " run(1 * second)"
   ]
  },
  {
   "cell_type": "code",
   "execution_count": 18,
   "metadata": {},
   "outputs": [
    {
     "name": "stdout",
     "output_type": "stream",
     "text": [
      "10000\n"
     ]
    },
    {
     "data": {
      "image/png": "[encoded data removed]",
      "text/plain": [
       "<Figure size 432x288 with 1 Axes>"
      ]
     },
     "metadata": {
      "needs_background": "light"
     },
     "output_type": "display_data"
    }
   ],
   "source": [
    "plot(M.t/ms, M.v[0])\n",
    "print(len(M.t/ms))\n",
    "xlabel('Time (ms)')\n",
    "ylabel('v');"
   ]
  },
  {
   "cell_type": "markdown",
   "metadata": {},
   "source": [
    "# Creating the Input layer"
   ]
  },
  {
   "cell_type": "code",
   "execution_count": 19,
   "metadata": {},
   "outputs": [],
   "source": [
    "def Plot_raster_plot(spikemonitor):\n",
    "    plot(spikemonitor.t/ms, spikemonitor.i, '.k')\n",
    "    xlabel('Time (ms)')\n",
    "    ylabel('Neuron index');"
   ]
  },
  {
   "cell_type": "code",
   "execution_count": 20,
   "metadata": {},
   "outputs": [],
   "source": [
    "# plot(M.t/ms, M.v[0])"
   ]
  },
  {
   "cell_type": "code",
   "execution_count": 21,
   "metadata": {
    "scrolled": true
   },
   "outputs": [
    {
     "data": {
      "text/plain": [
       "<matplotlib.axes._subplots.AxesSubplot at 0x226ae7d7cc0>"
      ]
     },
     "execution_count": 21,
     "metadata": {},
     "output_type": "execute_result"
    },
    {
     "data": {
      "image/png": "[encoded data removed]",
      "text/plain": [
       "<Figure size 432x288 with 1 Axes>"
      ]
     },
     "metadata": {
      "needs_background": "light"
     },
     "output_type": "display_data"
    }
   ],
   "source": [
    "start_scope()\n",
    "a=spike_freqs_img_120*Hz\n",
    "P = PoissonGroup(784,a)\n",
    "W=5*siemens\n",
    "eqs1 = '''dv/dt = -(v-El)/tau : volt'''\n",
    "\n",
    "neuron=NeuronGroup(100,eqs1,threshold='v>Vt',reset='v=Vr',method='exact')\n",
    "neuron.v=Vr\n",
    "synapses=Synapses(P,neuron,'w: siemens')\n",
    "synapses.connect()\n",
    "synapses.w=W\n",
    "\n",
    "M = SpikeMonitor(P)\n",
    "N=SpikeMonitor(neuron)\n",
    "run(1*second)\n",
    "brian_plot(M)"
   ]
  },
  {
   "cell_type": "code",
   "execution_count": 23,
   "metadata": {},
   "outputs": [
    {
     "name": "stdout",
     "output_type": "stream",
     "text": [
      "<synapses.w: array([5., 5., 5., ..., 5., 5., 5.]) * siemens>\n"
     ]
    }
   ],
   "source": [
    "print(synapses.w)"
   ]
  },
  {
   "cell_type": "code",
   "execution_count": 24,
   "metadata": {},
   "outputs": [
    {
     "data": {
      "image/png": "[encoded data removed]",
      "text/plain": [
       "<Figure size 432x288 with 1 Axes>"
      ]
     },
     "metadata": {
      "needs_background": "light"
     },
     "output_type": "display_data"
    }
   ],
   "source": [
    "test_img,img=get_image_pixels(120)\n",
    "mat = np.reshape(img,(28,28))\n",
    "\n",
    "# Creates PIL image\n",
    "img = Image.fromarray( mat , 'L')\n",
    "plt.imshow(img)\n",
    "plt.title('MNIST Image')\n",
    "plt.show()"
   ]
  },
  {
   "cell_type": "code",
   "execution_count": 25,
   "metadata": {},
   "outputs": [
    {
     "name": "stdout",
     "output_type": "stream",
     "text": [
      "[5.1, 5.1, 5.1, 5.1, 5.1, 5.1, 5.1, 5.1, 5.1, 5.1, 5.1, 5.1, 5.1, 5.1, 5.1, 5.1, 5.1, 5.1, 5.1, 5.1, 5.1, 5.1, 5.1, 5.1, 5.1, 5.1, 5.1, 5.1, 5.1, 5.1, 5.1, 5.1, 5.1, 5.1, 5.1, 5.1, 5.1, 5.1, 5.1, 5.1, 5.1, 5.1, 5.1, 5.1, 5.1, 5.1, 5.1, 5.1, 5.1, 5.1, 5.1, 5.1, 5.1, 5.1, 5.1, 5.1, 5.1, 5.1, 5.1, 5.1, 5.1, 5.1, 5.1, 5.1, 5.1, 5.1, 5.1, 5.1, 5.1, 5.1, 5.1, 5.1, 5.1, 5.1, 5.1, 5.1, 5.1, 5.1, 5.1, 5.1, 5.1, 5.1, 5.1, 5.1, 5.1, 5.1, 5.1, 5.1, 5.1, 5.1, 5.1, 5.1, 5.1, 5.1, 5.1, 5.1, 5.1, 5.1, 5.1, 5.1, 5.1, 5.1, 5.1, 5.1, 5.1, 5.1, 5.1, 5.1, 5.1, 5.1, 5.1, 5.1, 5.1, 5.1, 5.1, 5.1, 5.1, 5.1, 5.1, 5.1, 5.1, 5.1, 5.1, 5.1, 5.1, 5.1, 5.1, 5.1, 5.1, 5.1, 5.1, 5.1, 5.1, 5.1, 5.1, 5.1, 5.1, 5.1, 5.1, 5.1, 5.1, 5.1, 5.1, 5.1, 5.1, 5.1, 5.1, 5.1, 5.1, 5.1, 5.1, 5.1, 6.3, 6.3, 10.2, 8.7, 10.1, 7.9, 7.5, 7.5, 5.8, 5.1, 5.1, 5.1, 5.1, 5.1, 5.1, 5.1, 5.1, 5.1, 5.1, 5.1, 5.1, 5.1, 5.1, 6.9, 9.3, 9.9, 9.9, 9.9, 10.0, 10.0, 10.1, 10.1, 10.1, 10.1, 10.1, 10.1, 6.6, 5.1, 5.1, 5.1, 5.1, 5.1, 5.1, 5.1, 5.1, 5.1, 5.1, 5.1, 5.1, 5.1, 7.7, 10.0, 10.1, 9.1, 10.1, 10.1, 10.1, 10.1, 10.1, 10.1, 10.1, 10.1, 10.1, 10.1, 9.0, 5.1, 5.1, 5.1, 5.1, 5.1, 5.1, 5.1, 5.1, 5.1, 5.1, 5.1, 5.1, 5.1, 9.6, 10.1, 10.1, 8.3, 9.8, 8.5, 8.5, 7.1, 7.3, 5.8, 5.8, 5.8, 8.4, 10.1, 10.0, 6.6, 5.1, 5.1, 5.1, 5.1, 5.1, 5.1, 5.1, 5.1, 5.1, 5.1, 5.1, 5.1, 9.6, 10.1, 10.1, 7.1, 5.9, 5.1, 5.1, 5.1, 5.1, 5.1, 5.1, 5.1, 5.3, 6.1, 6.1, 5.5, 5.1, 5.1, 5.1, 5.1, 5.1, 5.1, 5.1, 5.1, 5.1, 5.1, 5.1, 5.1, 7.6, 10.1, 10.1, 6.4, 5.1, 5.1, 5.1, 5.1, 5.1, 5.1, 5.1, 5.1, 5.1, 5.1, 5.1, 5.1, 5.1, 5.1, 5.1, 5.1, 5.1, 5.1, 5.1, 5.1, 5.1, 5.1, 5.1, 5.1, 6.9, 10.1, 10.1, 7.0, 5.9, 5.9, 5.4, 5.4, 5.1, 5.1, 5.1, 5.1, 5.1, 5.1, 5.1, 5.1, 5.1, 5.1, 5.1, 5.1, 5.1, 5.1, 5.1, 5.1, 5.1, 5.1, 5.1, 5.1, 5.8, 9.3, 10.1, 10.1, 10.1, 10.1, 9.1, 9.1, 8.3, 7.1, 5.4, 5.1, 5.1, 5.1, 5.1, 5.1, 5.1, 5.1, 5.1, 5.1, 5.1, 5.1, 5.1, 5.1, 5.1, 5.1, 5.1, 5.1, 5.1, 6.7, 10.1, 10.1, 10.1, 10.1, 10.1, 10.1, 10.1, 10.1, 9.3, 7.2, 5.3, 5.1, 5.1, 5.1, 5.1, 5.1, 5.1, 5.1, 5.1, 5.1, 5.1, 5.1, 5.1, 5.1, 5.1, 5.1, 5.1, 6.7, 10.1, 10.1, 10.1, 10.1, 10.1, 10.1, 10.1, 10.1, 10.1, 10.1, 8.8, 5.1, 5.1, 5.1, 5.1, 5.1, 5.1, 5.1, 5.1, 5.1, 5.1, 5.1, 5.1, 5.1, 5.1, 5.1, 5.1, 5.1, 5.8, 8.2, 9.7, 8.0, 8.7, 9.0, 8.9, 10.1, 10.1, 10.1, 10.1, 7.6, 5.1, 5.1, 5.1, 5.1, 5.1, 5.1, 5.1, 5.1, 5.1, 5.1, 5.1, 5.1, 5.1, 5.1, 5.1, 5.1, 5.1, 5.1, 5.3, 5.1, 5.2, 5.2, 5.2, 7.8, 9.9, 10.1, 10.1, 10.0, 6.6, 5.1, 5.1, 5.1, 5.1, 5.1, 5.1, 5.1, 5.1, 5.1, 5.1, 5.1, 5.1, 5.1, 5.1, 5.1, 5.1, 5.1, 5.1, 5.1, 5.1, 5.1, 5.1, 5.1, 5.5, 9.4, 10.1, 10.1, 7.6, 5.1, 5.1, 5.1, 5.1, 5.1, 5.1, 5.1, 5.1, 5.1, 5.1, 5.1, 5.1, 5.1, 5.1, 5.1, 5.1, 5.1, 5.1, 5.1, 5.1, 5.1, 5.1, 5.1, 5.1, 9.3, 10.1, 10.1, 10.0, 6.6, 5.1, 5.1, 5.1, 5.1, 5.1, 5.1, 5.1, 5.1, 5.1, 5.1, 5.1, 5.1, 5.1, 5.1, 5.1, 5.1, 5.1, 5.1, 5.1, 5.1, 5.1, 5.1, 7.3, 9.9, 10.1, 10.1, 9.5, 5.5, 5.1, 5.1, 5.1, 5.1, 5.1, 5.1, 5.1, 5.1, 5.1, 5.1, 5.1, 5.1, 5.1, 5.1, 5.4, 5.3, 5.1, 5.1, 5.7, 6.1, 8.8, 8.8, 10.0, 10.1, 10.1, 10.1, 9.3, 5.1, 5.1, 5.1, 5.1, 5.1, 5.1, 5.1, 5.1, 5.1, 5.1, 5.1, 5.1, 5.1, 5.1, 5.1, 8.2, 8.9, 8.5, 8.5, 9.4, 10.1, 10.1, 10.1, 10.1, 10.1, 10.1, 9.9, 7.2, 5.1, 5.1, 5.1, 5.1, 5.1, 5.1, 5.1, 5.1, 5.1, 5.1, 5.1, 5.1, 5.1, 5.1, 5.1, 7.2, 10.0, 10.1, 10.1, 10.1, 10.1, 10.1, 10.1, 10.1, 10.1, 10.0, 7.2, 5.1, 5.1, 5.1, 5.1, 5.1, 5.1, 5.1, 5.1, 5.1, 5.1, 5.1, 5.1, 5.1, 5.1, 5.1, 5.1, 5.1, 8.6, 9.9, 10.1, 10.1, 10.1, 10.1, 10.0, 9.8, 9.8, 7.2, 5.1, 5.1, 5.1, 5.1, 5.1, 5.1, 5.1, 5.1, 5.1, 5.1, 5.1, 5.1, 5.1, 5.1, 5.1, 5.1, 5.1, 5.1, 5.1, 5.4, 7.7, 10.1, 10.1, 7.5, 6.4, 5.1, 5.1, 5.1, 5.1, 5.1, 5.1, 5.1, 5.1, 5.1, 5.1, 5.1, 5.1, 5.1, 5.1, 5.1, 5.1, 5.1, 5.1, 5.1, 5.1, 5.1, 5.1, 5.1, 5.1, 5.1, 5.1, 5.1, 5.1, 5.1, 5.1, 5.1, 5.1, 5.1, 5.1, 5.1, 5.1, 5.1, 5.1, 5.1, 5.1, 5.1, 5.1, 5.1, 5.1, 5.1, 5.1, 5.1, 5.1, 5.1, 5.1, 5.1, 5.1, 5.1, 5.1, 5.1, 5.1, 5.1, 5.1, 5.1, 5.1, 5.1, 5.1, 5.1, 5.1, 5.1, 5.1, 5.1, 5.1, 5.1, 5.1, 5.1, 5.1, 5.1, 5.1, 5.1, 5.1, 5.1, 5.1, 5.1, 5.1, 5.1, 5.1, 5.1, 5.1, 5.1, 5.1, 5.1, 5.1, 5.1, 5.1, 5.1, 5.1, 5.1, 5.1, 5.1, 5.1]\n"
     ]
    }
   ],
   "source": [
    "spike_freqs_img_120=get_spike_freqs_from_image(120)\n",
    "print(spike_freqs_img_120)"
   ]
  },
  {
   "cell_type": "code",
   "execution_count": null,
   "metadata": {},
   "outputs": [],
   "source": [
    "start_scope()\n",
    "a=spike_freqs_img_120*Hz\n",
    "P = PoissonGroup(784,20*Hz)\n",
    "refrac_e = 1. * ms\n",
    "\n",
    "eqs = '''\n",
    "        dv/dt = ((v_rest_e - v) + (I_synE+I_synI) / nS) / (2*ms)  : volt (unless refractory)\n",
    "        I_synE = ge * nS *         -v                           : amp\n",
    "        I_synI = gi * nS * (-70.*mV-v)                          : amp\n",
    "        dge/dt = -ge/(1.0*ms)                                   : 1\n",
    "        dgi/dt = -gi/(2.0*ms)                                  : 1\n",
    "    '''\n",
    "\n",
    "#neuron=NeuronGroup(1,eqs,threshold='v>Vt',reset='v=Vr',method='exact')\n",
    "neuron= NeuronGroup(1, eqs, threshold= 'v>Vt',refractory=refrac_e, reset= 'v=Vr', method='euler')\n",
    "neuron.v=Vr\n",
    "synapses=Synapses(P,neuron,'w: siemens')\n",
    "synapses.connect(i=0,j=0)\n",
    "synapses.w = 25*nS\n",
    "M = SpikeMonitor(P)\n",
    "N=SpikeMonitor(neuron)\n",
    "run(5*second)\n",
    "brian_plot(M)"
   ]
  },
  {
   "cell_type": "code",
   "execution_count": null,
   "metadata": {},
   "outputs": [],
   "source": [
    "synapses.w"
   ]
  },
  {
   "cell_type": "code",
   "execution_count": null,
   "metadata": {},
   "outputs": [],
   "source": [
    "print(synapses.i[:])\n",
    "print(synapses.t[:])"
   ]
  },
  {
   "cell_type": "code",
   "execution_count": null,
   "metadata": {},
   "outputs": [],
   "source": [
    "brian_plot(N)"
   ]
  },
  {
   "cell_type": "code",
   "execution_count": 27,
   "metadata": {},
   "outputs": [],
   "source": [
    "v_rest_e = -65. * mV\n",
    "v_rest_i = -60. * mV\n",
    "v_reset_e = -65. * mV\n",
    "v_reset_i = -45. * mV\n",
    "v_thresh_e = -52. * mV\n",
    "v_thresh_i = -40. * mV\n",
    "refrac_e = 5. * ms\n",
    "refrac_i = 2. * ms"
   ]
  },
  {
   "cell_type": "code",
   "execution_count": 28,
   "metadata": {},
   "outputs": [],
   "source": [
    "no_exci=400\n",
    "no_inhi=no_exci\n",
    "\n",
    "v_reset_e = 'v = v_reset_e; theta += theta_plus_e; timer = 0*ms'\n",
    "\n",
    "v_thresh_e_eqn = '(v>(theta - offset + v_thresh_e)) and (timer>refrac_e)'\n",
    "v_thresh_i_eqn = 'v>v_thresh_i'\n",
    "v_reset_i_eqn = 'v=v_reset_i'"
   ]
  },
  {
   "cell_type": "code",
   "execution_count": 29,
   "metadata": {},
   "outputs": [],
   "source": [
    "exc_neurons = '''\n",
    "        dv/dt = ((v_rest_e - v) + (I_synE+I_synI) / nS) / (100*ms)  : volt (unless refractory)\n",
    "        I_synE = ge * nS *         -v                           : amp\n",
    "        I_synI = gi * nS * (-100.*mV-v)                          : amp\n",
    "        dge/dt = -ge/(1.0*ms)                                   : 1\n",
    "        dgi/dt = -gi/(2.0*ms)                                  : 1\n",
    "        '''\n"
   ]
  },
  {
   "cell_type": "code",
   "execution_count": 30,
   "metadata": {},
   "outputs": [],
   "source": [
    "inh_neurons = '''\n",
    "        dv/dt = ((v_rest_i - v) + (I_synE+I_synI) / nS) / (10*ms)  : volt (unless refractory)\n",
    "        I_synE = ge * nS *         -v                           : amp\n",
    "        I_synI = gi * nS * (-85.*mV-v)                          : amp\n",
    "        dge/dt = -ge/(1.0*ms)                                   : 1\n",
    "        dgi/dt = -gi/(2.0*ms)                                  : 1\n",
    "        '''"
   ]
  },
  {
   "cell_type": "code",
   "execution_count": null,
   "metadata": {},
   "outputs": [],
   "source": [
    "neuron_groups['e'] = NeuronGroup(no_exci*len(population_names), exc_neurons, threshold= v_thresh_e_eqn, refractory= refrac_e, reset= v_reset_e, method='euler')"
   ]
  },
  {
   "cell_type": "code",
   "execution_count": null,
   "metadata": {},
   "outputs": [],
   "source": [
    "neuron_groups['i'] = NeuronGroup(no_inhi*len(population_names), inh_neurons, threshold= v_thresh_i_eqn, refractory= refrac_i, reset= v_reset_i_eqn, method='euler')"
   ]
  },
  {
   "cell_type": "code",
   "execution_count": null,
   "metadata": {},
   "outputs": [],
   "source": [
    "pre = 'Apost += w'\n",
    "model='''w:1\n",
    "         dApre/dt=-Apre/taupre : 1 (event-driven)\n",
    "         dApost/dt=-Apost/taupost : 1 (event-driven)'''\n",
    "\n",
    "\n",
    "\n",
    "ei_connection=Synapses(neuron_groups['e'], neuron_groups['i'], model=model, on_pre=pre)"
   ]
  },
  {
   "cell_type": "code",
   "execution_count": null,
   "metadata": {},
   "outputs": [],
   "source": [
    "for i in range(no_exci):\n",
    "    ei_connection.connect(neuron_groups[i][0],neuron_groups[i][0])"
   ]
  },
  {
   "cell_type": "code",
   "execution_count": null,
   "metadata": {},
   "outputs": [],
   "source": []
  }
 ],
 "metadata": {
  "kernelspec": {
   "display_name": "Python 3",
   "language": "python",
   "name": "python3"
  },
  "language_info": {
   "codemirror_mode": {
    "name": "ipython",
    "version": 3
   },
   "file_extension": ".py",
   "mimetype": "text/x-python",
   "name": "python",
   "nbconvert_exporter": "python",
   "pygments_lexer": "ipython3",
   "version": "3.6.5"
  }
 },
 "nbformat": 4,
 "nbformat_minor": 2
}
